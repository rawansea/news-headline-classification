{
 "cells": [
  {
   "cell_type": "markdown",
   "id": "9c413d81",
   "metadata": {},
   "source": [
    "# News Headline Classification Notebook\n",
    "\n",
    "## Overview\n",
    "This notebook demonstrates the process of classifying news headlines into two tasks:\n",
    "1. **Category Classification**: Predicting the topic of a news headline.\n",
    "2. **Sentiment Analysis**: Predicting the sentiment (positive, negative, neutral) of a news headline.\n",
    "\n",
    "## Workflow\n",
    "1. Data Preprocessing:\n",
    "    - Load and preprocess the dataset.\n",
    "    - Encode labels and vectorize text using TF-IDF.\n",
    "2. Model Training and Evaluation:\n",
    "    - Train various classifiers on both tasks (category and sentiment).\n",
    "    - Evaluate performance using metrics like precision, recall, and F1-score.\n",
    "\n",
    "## Classifiers\n",
    "The following classifiers are implemented:\n",
    "- Support Vector Machine (SVM)\n",
    "- Random Forest\n",
    "- XGBoost\n",
    "- Naive Bayes\n",
    "- Multi-Layer Perceptron (MLP)\n",
    "- K-Nearest Neighbors (KNN)\n",
    "- Logistic Regression\n"
   ]
  },
  {
   "cell_type": "code",
   "execution_count": 2,
   "id": "4d2d2a5c",
   "metadata": {},
   "outputs": [],
   "source": [
    "import re\n",
    "# Import necessary libraries\n",
    "from sklearn.model_selection import train_test_split\n",
    "from sklearn.feature_extraction.text import TfidfVectorizer\n",
    "from sklearn.preprocessing import LabelEncoder\n",
    "import pandas as pd\n",
    "\n",
    "# Load the dataset\n",
    "file_path = r\"C:\\Users\\rasha\\Downloads\\Sapaq news headlines.xlsx\"\n",
    "sheet_name = \"Cleaned Data\"\n",
    "data = pd.read_excel(file_path, sheet_name=sheet_name)  # Read data from the specified sheet\n",
    "# Remove punctuation from the news headlines\n",
    "def remove_punctuation(text):\n",
    "    \"\"\"\n",
    "    Removes punctuation from a given text.\n",
    "    \n",
    "    Args:\n",
    "    text (str): The input text.\n",
    "\n",
    "    Returns:\n",
    "    str: The cleaned text without punctuation.\n",
    "    \"\"\"\n",
    "    return re.sub(r'[^\\w\\s]', '', text)\n",
    "\n",
    "# Apply the function to clean the headlines\n",
    "data['News Headlines'] = data['News Headlines'].apply(remove_punctuation)\n",
    "\n",
    "# Features and targets\n",
    "X = data['News Headlines']  # Cleaned news headlines (text data)\n",
    "y_category = data['category']  # Predicting categories (e.g., Sports, Politics)\n",
    "y_annotation = data['Final sentiment Annotation ']  # Predicting sentiment (positive, negative, neutral)\n",
    "\n",
    "# Encode target variables\n",
    "category_encoder = LabelEncoder()\n",
    "annotation_encoder = LabelEncoder()\n",
    "y_category = category_encoder.fit_transform(y_category)\n",
    "y_annotation = annotation_encoder.fit_transform(y_annotation)\n",
    "\n",
    "# Split dataset into training and testing sets with stratified sampling\n",
    "X_train, X_test, y_category_train, y_category_test = train_test_split(\n",
    "    X, y_category, test_size=0.2, random_state=42, stratify=y_category\n",
    ")\n",
    "X_train_ann, X_test_ann, y_annotation_train, y_annotation_test = train_test_split(\n",
    "    X, y_annotation, test_size=0.2, random_state=42, stratify=y_annotation\n",
    ")\n",
    "\n",
    "# TF-IDF Vectorization\n",
    "vectorizer = TfidfVectorizer(max_features=5000)\n",
    "X_train_tfidf = vectorizer.fit_transform(X_train)\n",
    "X_test_tfidf = vectorizer.transform(X_test)\n"
   ]
  },
  {
   "cell_type": "markdown",
   "id": "099418b3",
   "metadata": {},
   "source": [
    "# 1. SVM Classifier\n",
    "\n"
   ]
  },
  {
   "cell_type": "code",
   "execution_count": 3,
   "id": "2ca4d9f3",
   "metadata": {},
   "outputs": [
    {
     "name": "stdout",
     "output_type": "stream",
     "text": [
      "SVM - Category Prediction Report:\n",
      "              precision    recall  f1-score   support\n",
      "\n",
      "    Our Life       0.95      1.00      0.98        20\n",
      "       Sport       0.95      0.95      0.95        20\n",
      "     Tourism       0.83      1.00      0.91        20\n",
      "       World       1.00      0.90      0.95        20\n",
      "  technology       1.00      0.85      0.92        20\n",
      "\n",
      "    accuracy                           0.94       100\n",
      "   macro avg       0.95      0.94      0.94       100\n",
      "weighted avg       0.95      0.94      0.94       100\n",
      "\n",
      "SVM - Sentiment Prediction Report:\n",
      "              precision    recall  f1-score   support\n",
      "\n",
      "    Negative       0.41      0.26      0.32        34\n",
      "     Neutral       0.00      0.00      0.00        19\n",
      "    Positive       0.47      0.79      0.59        47\n",
      "\n",
      "    accuracy                           0.46       100\n",
      "   macro avg       0.29      0.35      0.30       100\n",
      "weighted avg       0.36      0.46      0.39       100\n",
      "\n"
     ]
    },
    {
     "name": "stderr",
     "output_type": "stream",
     "text": [
      "C:\\Users\\rasha\\anaconda3\\Lib\\site-packages\\sklearn\\metrics\\_classification.py:1509: UndefinedMetricWarning: Precision is ill-defined and being set to 0.0 in labels with no predicted samples. Use `zero_division` parameter to control this behavior.\n",
      "  _warn_prf(average, modifier, f\"{metric.capitalize()} is\", len(result))\n",
      "C:\\Users\\rasha\\anaconda3\\Lib\\site-packages\\sklearn\\metrics\\_classification.py:1509: UndefinedMetricWarning: Precision is ill-defined and being set to 0.0 in labels with no predicted samples. Use `zero_division` parameter to control this behavior.\n",
      "  _warn_prf(average, modifier, f\"{metric.capitalize()} is\", len(result))\n",
      "C:\\Users\\rasha\\anaconda3\\Lib\\site-packages\\sklearn\\metrics\\_classification.py:1509: UndefinedMetricWarning: Precision is ill-defined and being set to 0.0 in labels with no predicted samples. Use `zero_division` parameter to control this behavior.\n",
      "  _warn_prf(average, modifier, f\"{metric.capitalize()} is\", len(result))\n"
     ]
    }
   ],
   "source": [
    "# Import the SVM classifier and evaluation metrics\n",
    "from sklearn.svm import SVC\n",
    "from sklearn.metrics import classification_report\n",
    "\n",
    "# Train and evaluate SVM for Category Prediction\n",
    "# SVM is effective for text classification due to its ability to handle high-dimensional data\n",
    "svm_category_model = SVC(kernel='linear', random_state=42)  # Use a linear kernel\n",
    "svm_category_model.fit(X_train_tfidf, y_category_train)  # Train the model\n",
    "y_category_svm_pred = svm_category_model.predict(X_test_tfidf)  # Predict on test data\n",
    "print(\"SVM - Category Prediction Report:\")\n",
    "print(classification_report(y_category_test, y_category_svm_pred, target_names=category_encoder.classes_))\n",
    "\n",
    "# Train and evaluate SVM for Sentiment Prediction\n",
    "# Separate SVM model is trained for sentiment analysis\n",
    "svm_sentiment_model = SVC(kernel='linear', random_state=42)\n",
    "svm_sentiment_model.fit(X_train_tfidf, y_annotation_train)\n",
    "y_sentiment_svm_pred = svm_sentiment_model.predict(X_test_tfidf)\n",
    "print(\"SVM - Sentiment Prediction Report:\")\n",
    "print(classification_report(y_annotation_test, y_sentiment_svm_pred, target_names=annotation_encoder.classes_))\n"
   ]
  },
  {
   "cell_type": "markdown",
   "id": "63e87546",
   "metadata": {},
   "source": [
    "# 2. Random Forest Classifier"
   ]
  },
  {
   "cell_type": "code",
   "execution_count": 4,
   "id": "bb1dceb3",
   "metadata": {},
   "outputs": [
    {
     "name": "stdout",
     "output_type": "stream",
     "text": [
      "Random Forest - Category Prediction Report:\n",
      "              precision    recall  f1-score   support\n",
      "\n",
      "    Our Life       0.53      0.95      0.68        20\n",
      "       Sport       1.00      0.65      0.79        20\n",
      "     Tourism       0.86      0.95      0.90        20\n",
      "       World       0.92      0.55      0.69        20\n",
      "  technology       1.00      0.85      0.92        20\n",
      "\n",
      "    accuracy                           0.79       100\n",
      "   macro avg       0.86      0.79      0.80       100\n",
      "weighted avg       0.86      0.79      0.80       100\n",
      "\n",
      "Random Forest - Sentiment Prediction Report:\n",
      "              precision    recall  f1-score   support\n",
      "\n",
      "    Negative       0.53      0.26      0.35        34\n",
      "     Neutral       0.12      0.05      0.07        19\n",
      "    Positive       0.49      0.79      0.61        47\n",
      "\n",
      "    accuracy                           0.47       100\n",
      "   macro avg       0.38      0.37      0.34       100\n",
      "weighted avg       0.44      0.47      0.42       100\n",
      "\n"
     ]
    }
   ],
   "source": [
    "from sklearn.ensemble import RandomForestClassifier\n",
    "from sklearn.metrics import classification_report\n",
    "\n",
    "# Train and evaluate Random Forest for Category Prediction\n",
    "# Random Forest is an ensemble method that builds multiple decision trees and averages their predictions\n",
    "rf_category_model = RandomForestClassifier(n_estimators=100, random_state=42)  # 100 trees in the forest\n",
    "rf_category_model.fit(X_train_tfidf, y_category_train)  # Train the model\n",
    "y_category_rf_pred = rf_category_model.predict(X_test_tfidf)  # Predict on test data\n",
    "print(\"Random Forest - Category Prediction Report:\")\n",
    "print(classification_report(y_category_test, y_category_rf_pred, target_names=category_encoder.classes_))\n",
    "\n",
    "# Train and evaluate Random Forest for Sentiment Prediction\n",
    "# Separate Random Forest model for sentiment analysis\n",
    "rf_sentiment_model = RandomForestClassifier(n_estimators=100, random_state=42)\n",
    "rf_sentiment_model.fit(X_train_tfidf, y_annotation_train)\n",
    "y_sentiment_rf_pred = rf_sentiment_model.predict(X_test_tfidf)\n",
    "print(\"Random Forest - Sentiment Prediction Report:\")\n",
    "print(classification_report(y_annotation_test, y_sentiment_rf_pred, target_names=annotation_encoder.classes_))\n"
   ]
  },
  {
   "cell_type": "markdown",
   "id": "d891ac5f",
   "metadata": {},
   "source": [
    "# 3. XGBoost Classifier"
   ]
  },
  {
   "cell_type": "code",
   "execution_count": 5,
   "id": "fb8c2949",
   "metadata": {},
   "outputs": [
    {
     "name": "stderr",
     "output_type": "stream",
     "text": [
      "C:\\Users\\rasha\\anaconda3\\Lib\\site-packages\\xgboost\\core.py:158: UserWarning: [16:59:19] WARNING: C:\\buildkite-agent\\builds\\buildkite-windows-cpu-autoscaling-group-i-0c55ff5f71b100e98-1\\xgboost\\xgboost-ci-windows\\src\\learner.cc:740: \n",
      "Parameters: { \"use_label_encoder\" } are not used.\n",
      "\n",
      "  warnings.warn(smsg, UserWarning)\n"
     ]
    },
    {
     "name": "stdout",
     "output_type": "stream",
     "text": [
      "XGBoost - Category Prediction Report:\n",
      "              precision    recall  f1-score   support\n",
      "\n",
      "    Our Life       0.44      0.70      0.54        20\n",
      "       Sport       0.93      0.65      0.76        20\n",
      "     Tourism       0.77      1.00      0.87        20\n",
      "       World       1.00      0.40      0.57        20\n",
      "  technology       0.80      0.80      0.80        20\n",
      "\n",
      "    accuracy                           0.71       100\n",
      "   macro avg       0.79      0.71      0.71       100\n",
      "weighted avg       0.79      0.71      0.71       100\n",
      "\n"
     ]
    },
    {
     "name": "stderr",
     "output_type": "stream",
     "text": [
      "C:\\Users\\rasha\\anaconda3\\Lib\\site-packages\\xgboost\\core.py:158: UserWarning: [16:59:20] WARNING: C:\\buildkite-agent\\builds\\buildkite-windows-cpu-autoscaling-group-i-0c55ff5f71b100e98-1\\xgboost\\xgboost-ci-windows\\src\\learner.cc:740: \n",
      "Parameters: { \"use_label_encoder\" } are not used.\n",
      "\n",
      "  warnings.warn(smsg, UserWarning)\n"
     ]
    },
    {
     "name": "stdout",
     "output_type": "stream",
     "text": [
      "XGBoost - Sentiment Prediction Report:\n",
      "              precision    recall  f1-score   support\n",
      "\n",
      "    Negative       0.45      0.26      0.33        34\n",
      "     Neutral       0.14      0.16      0.15        19\n",
      "    Positive       0.49      0.62      0.55        47\n",
      "\n",
      "    accuracy                           0.41       100\n",
      "   macro avg       0.36      0.35      0.34       100\n",
      "weighted avg       0.41      0.41      0.40       100\n",
      "\n"
     ]
    }
   ],
   "source": [
    "from xgboost import XGBClassifier\n",
    "from sklearn.metrics import classification_report\n",
    "\n",
    "# Train and evaluate XGBoost for Category Prediction\n",
    "# XGBoost is a gradient boosting framework optimized for speed and accuracy\n",
    "xgb_category_model = XGBClassifier(use_label_encoder=False, eval_metric='mlogloss', random_state=42)\n",
    "xgb_category_model.fit(X_train_tfidf, y_category_train)  # Train the model\n",
    "y_category_xgb_pred = xgb_category_model.predict(X_test_tfidf)  # Predict on test data\n",
    "print(\"XGBoost - Category Prediction Report:\")\n",
    "print(classification_report(y_category_test, y_category_xgb_pred, target_names=category_encoder.classes_))\n",
    "\n",
    "# Train and evaluate XGBoost for Sentiment Prediction\n",
    "# Separate XGBoost model for sentiment analysis\n",
    "xgb_sentiment_model = XGBClassifier(use_label_encoder=False, eval_metric='mlogloss', random_state=42)\n",
    "xgb_sentiment_model.fit(X_train_tfidf, y_annotation_train)\n",
    "y_sentiment_xgb_pred = xgb_sentiment_model.predict(X_test_tfidf)\n",
    "print(\"XGBoost - Sentiment Prediction Report:\")\n",
    "print(classification_report(y_annotation_test, y_sentiment_xgb_pred, target_names=annotation_encoder.classes_))\n"
   ]
  },
  {
   "cell_type": "markdown",
   "id": "512d4c85",
   "metadata": {},
   "source": [
    "# 4. Naive Bayes Classifier"
   ]
  },
  {
   "cell_type": "code",
   "execution_count": 6,
   "id": "361f9fea",
   "metadata": {},
   "outputs": [
    {
     "name": "stdout",
     "output_type": "stream",
     "text": [
      "Naive Bayes - Category Prediction Report:\n",
      "              precision    recall  f1-score   support\n",
      "\n",
      "    Our Life       0.95      0.90      0.92        20\n",
      "       Sport       0.90      0.95      0.93        20\n",
      "     Tourism       0.80      1.00      0.89        20\n",
      "       World       1.00      0.85      0.92        20\n",
      "  technology       0.94      0.85      0.89        20\n",
      "\n",
      "    accuracy                           0.91       100\n",
      "   macro avg       0.92      0.91      0.91       100\n",
      "weighted avg       0.92      0.91      0.91       100\n",
      "\n",
      "Naive Bayes - Sentiment Prediction Report:\n",
      "              precision    recall  f1-score   support\n",
      "\n",
      "    Negative       0.43      0.18      0.25        34\n",
      "     Neutral       0.00      0.00      0.00        19\n",
      "    Positive       0.47      0.85      0.60        47\n",
      "\n",
      "    accuracy                           0.46       100\n",
      "   macro avg       0.30      0.34      0.28       100\n",
      "weighted avg       0.36      0.46      0.37       100\n",
      "\n"
     ]
    },
    {
     "name": "stderr",
     "output_type": "stream",
     "text": [
      "C:\\Users\\rasha\\anaconda3\\Lib\\site-packages\\sklearn\\metrics\\_classification.py:1509: UndefinedMetricWarning: Precision is ill-defined and being set to 0.0 in labels with no predicted samples. Use `zero_division` parameter to control this behavior.\n",
      "  _warn_prf(average, modifier, f\"{metric.capitalize()} is\", len(result))\n",
      "C:\\Users\\rasha\\anaconda3\\Lib\\site-packages\\sklearn\\metrics\\_classification.py:1509: UndefinedMetricWarning: Precision is ill-defined and being set to 0.0 in labels with no predicted samples. Use `zero_division` parameter to control this behavior.\n",
      "  _warn_prf(average, modifier, f\"{metric.capitalize()} is\", len(result))\n",
      "C:\\Users\\rasha\\anaconda3\\Lib\\site-packages\\sklearn\\metrics\\_classification.py:1509: UndefinedMetricWarning: Precision is ill-defined and being set to 0.0 in labels with no predicted samples. Use `zero_division` parameter to control this behavior.\n",
      "  _warn_prf(average, modifier, f\"{metric.capitalize()} is\", len(result))\n"
     ]
    }
   ],
   "source": [
    "from sklearn.naive_bayes import MultinomialNB\n",
    "from sklearn.metrics import classification_report\n",
    "\n",
    "# Train and evaluate Naive Bayes for Category Prediction\n",
    "# Multinomial Naive Bayes is particularly effective for text classification\n",
    "nb_category_model = MultinomialNB()\n",
    "nb_category_model.fit(X_train_tfidf, y_category_train)  # Train the model\n",
    "y_category_nb_pred = nb_category_model.predict(X_test_tfidf)  # Predict on test data\n",
    "print(\"Naive Bayes - Category Prediction Report:\")\n",
    "print(classification_report(y_category_test, y_category_nb_pred, target_names=category_encoder.classes_))\n",
    "\n",
    "# Train and evaluate Naive Bayes for Sentiment Prediction\n",
    "# Separate Naive Bayes model for sentiment analysis\n",
    "nb_sentiment_model = MultinomialNB()\n",
    "nb_sentiment_model.fit(X_train_tfidf, y_annotation_train)\n",
    "y_sentiment_nb_pred = nb_sentiment_model.predict(X_test_tfidf)\n",
    "print(\"Naive Bayes - Sentiment Prediction Report:\")\n",
    "print(classification_report(y_annotation_test, y_sentiment_nb_pred, target_names=annotation_encoder.classes_))\n"
   ]
  },
  {
   "cell_type": "markdown",
   "id": "4821c155",
   "metadata": {},
   "source": [
    "# 5. MLP Neural Network"
   ]
  },
  {
   "cell_type": "code",
   "execution_count": 7,
   "id": "a8e9a3b5",
   "metadata": {},
   "outputs": [
    {
     "name": "stdout",
     "output_type": "stream",
     "text": [
      "MLP Neural Network - Category Prediction Report:\n",
      "              precision    recall  f1-score   support\n",
      "\n",
      "    Our Life       0.90      0.95      0.93        20\n",
      "       Sport       0.90      0.95      0.93        20\n",
      "     Tourism       0.80      1.00      0.89        20\n",
      "       World       1.00      0.80      0.89        20\n",
      "  technology       1.00      0.85      0.92        20\n",
      "\n",
      "    accuracy                           0.91       100\n",
      "   macro avg       0.92      0.91      0.91       100\n",
      "weighted avg       0.92      0.91      0.91       100\n",
      "\n",
      "MLP Neural Network - Sentiment Prediction Report:\n",
      "              precision    recall  f1-score   support\n",
      "\n",
      "    Negative       0.33      0.35      0.34        34\n",
      "     Neutral       0.18      0.11      0.13        19\n",
      "    Positive       0.51      0.57      0.54        47\n",
      "\n",
      "    accuracy                           0.41       100\n",
      "   macro avg       0.34      0.34      0.34       100\n",
      "weighted avg       0.39      0.41      0.40       100\n",
      "\n"
     ]
    }
   ],
   "source": [
    "from sklearn.neural_network import MLPClassifier\n",
    "from sklearn.metrics import classification_report\n",
    "\n",
    "# Train and evaluate MLP Neural Network for Category Prediction\n",
    "# MLP is a feedforward neural network that can learn complex relationships in data\n",
    "mlp_category_model = MLPClassifier(hidden_layer_sizes=(100,), max_iter=500, random_state=42)\n",
    "mlp_category_model.fit(X_train_tfidf, y_category_train)  # Train the model\n",
    "y_category_mlp_pred = mlp_category_model.predict(X_test_tfidf)  # Predict on test data\n",
    "print(\"MLP Neural Network - Category Prediction Report:\")\n",
    "print(classification_report(y_category_test, y_category_mlp_pred, target_names=category_encoder.classes_))\n",
    "\n",
    "# Train and evaluate MLP Neural Network for Sentiment Prediction\n",
    "# Separate MLP model for sentiment analysis\n",
    "mlp_sentiment_model = MLPClassifier(hidden_layer_sizes=(100,), max_iter=500, random_state=42)\n",
    "mlp_sentiment_model.fit(X_train_tfidf, y_annotation_train)\n",
    "y_sentiment_mlp_pred = mlp_sentiment_model.predict(X_test_tfidf)\n",
    "print(\"MLP Neural Network - Sentiment Prediction Report:\")\n",
    "print(classification_report(y_annotation_test, y_sentiment_mlp_pred, target_names=annotation_encoder.classes_))\n"
   ]
  },
  {
   "cell_type": "markdown",
   "id": "664f2dbc",
   "metadata": {},
   "source": [
    "# 6. KNN Classifier"
   ]
  },
  {
   "cell_type": "code",
   "execution_count": 8,
   "id": "d841a621",
   "metadata": {},
   "outputs": [
    {
     "name": "stdout",
     "output_type": "stream",
     "text": [
      "KNN - Category Prediction Report:\n",
      "              precision    recall  f1-score   support\n",
      "\n",
      "    Our Life       0.90      0.95      0.93        20\n",
      "       Sport       0.91      1.00      0.95        20\n",
      "     Tourism       0.83      1.00      0.91        20\n",
      "       World       1.00      0.75      0.86        20\n",
      "  technology       0.94      0.85      0.89        20\n",
      "\n",
      "    accuracy                           0.91       100\n",
      "   macro avg       0.92      0.91      0.91       100\n",
      "weighted avg       0.92      0.91      0.91       100\n",
      "\n",
      "KNN - Sentiment Prediction Report:\n",
      "              precision    recall  f1-score   support\n",
      "\n",
      "    Negative       0.37      0.53      0.43        34\n",
      "     Neutral       0.08      0.05      0.06        19\n",
      "    Positive       0.44      0.36      0.40        47\n",
      "\n",
      "    accuracy                           0.36       100\n",
      "   macro avg       0.30      0.31      0.30       100\n",
      "weighted avg       0.35      0.36      0.35       100\n",
      "\n"
     ]
    }
   ],
   "source": [
    "from sklearn.neighbors import KNeighborsClassifier\n",
    "from sklearn.metrics import classification_report\n",
    "\n",
    "# Train and evaluate KNN for Category Prediction\n",
    "# KNN is a simple algorithm that classifies based on the majority class of nearest neighbors\n",
    "knn_category_model = KNeighborsClassifier(n_neighbors=5)\n",
    "knn_category_model.fit(X_train_tfidf, y_category_train)  # Train the model\n",
    "y_category_knn_pred = knn_category_model.predict(X_test_tfidf)  # Predict on test data\n",
    "print(\"KNN - Category Prediction Report:\")\n",
    "print(classification_report(y_category_test, y_category_knn_pred, target_names=category_encoder.classes_))\n",
    "\n",
    "# Train and evaluate KNN for Sentiment Prediction\n",
    "# Separate KNN model for sentiment analysis\n",
    "knn_sentiment_model = KNeighborsClassifier(n_neighbors=5)\n",
    "knn_sentiment_model.fit(X_train_tfidf, y_annotation_train)\n",
    "y_sentiment_knn_pred = knn_sentiment_model.predict(X_test_tfidf)\n",
    "print(\"KNN - Sentiment Prediction Report:\")\n",
    "print(classification_report(y_annotation_test, y_sentiment_knn_pred, target_names=annotation_encoder.classes_))\n"
   ]
  },
  {
   "cell_type": "markdown",
   "id": "319b7c0e",
   "metadata": {},
   "source": [
    "# 7. Logistic Regression"
   ]
  },
  {
   "cell_type": "code",
   "execution_count": 9,
   "id": "fd683591",
   "metadata": {},
   "outputs": [
    {
     "name": "stdout",
     "output_type": "stream",
     "text": [
      "Logistic Regression - Category Prediction Report:\n",
      "              precision    recall  f1-score   support\n",
      "\n",
      "    Our Life       0.95      1.00      0.98        20\n",
      "       Sport       0.95      0.95      0.95        20\n",
      "     Tourism       0.87      1.00      0.93        20\n",
      "       World       0.95      0.90      0.92        20\n",
      "  technology       1.00      0.85      0.92        20\n",
      "\n",
      "    accuracy                           0.94       100\n",
      "   macro avg       0.94      0.94      0.94       100\n",
      "weighted avg       0.94      0.94      0.94       100\n",
      "\n",
      "\n",
      "Logistic Regression - Sentiment Prediction Report:\n",
      "              precision    recall  f1-score   support\n",
      "\n",
      "    Negative       0.38      0.09      0.14        34\n",
      "     Neutral       0.00      0.00      0.00        19\n",
      "    Positive       0.46      0.89      0.60        47\n",
      "\n",
      "    accuracy                           0.45       100\n",
      "   macro avg       0.28      0.33      0.25       100\n",
      "weighted avg       0.34      0.45      0.33       100\n",
      "\n"
     ]
    },
    {
     "name": "stderr",
     "output_type": "stream",
     "text": [
      "C:\\Users\\rasha\\anaconda3\\Lib\\site-packages\\sklearn\\metrics\\_classification.py:1509: UndefinedMetricWarning: Precision is ill-defined and being set to 0.0 in labels with no predicted samples. Use `zero_division` parameter to control this behavior.\n",
      "  _warn_prf(average, modifier, f\"{metric.capitalize()} is\", len(result))\n",
      "C:\\Users\\rasha\\anaconda3\\Lib\\site-packages\\sklearn\\metrics\\_classification.py:1509: UndefinedMetricWarning: Precision is ill-defined and being set to 0.0 in labels with no predicted samples. Use `zero_division` parameter to control this behavior.\n",
      "  _warn_prf(average, modifier, f\"{metric.capitalize()} is\", len(result))\n",
      "C:\\Users\\rasha\\anaconda3\\Lib\\site-packages\\sklearn\\metrics\\_classification.py:1509: UndefinedMetricWarning: Precision is ill-defined and being set to 0.0 in labels with no predicted samples. Use `zero_division` parameter to control this behavior.\n",
      "  _warn_prf(average, modifier, f\"{metric.capitalize()} is\", len(result))\n"
     ]
    }
   ],
   "source": [
    "from sklearn.ensemble import VotingClassifier\n",
    "from sklearn.svm import SVC\n",
    "from sklearn.linear_model import LogisticRegression\n",
    "from sklearn.naive_bayes import MultinomialNB\n",
    "from sklearn.metrics import classification_report\n",
    "from sklearn.feature_extraction.text import TfidfVectorizer\n",
    "from sklearn.model_selection import train_test_split\n",
    "import pandas as pd\n",
    "\n",
    "# Load the dataset\n",
    "file_path = r\"C:\\Users\\rasha\\Downloads\\Sapaq news headlines.xlsx\"\n",
    "sheet_name = \"Cleaned Data\"\n",
    "data = pd.read_excel(file_path, sheet_name=sheet_name)  # Read data from the specified sheet\n",
    "\n",
    "# Features and targets\n",
    "X = data['News Headlines']  # News headlines (text data)\n",
    "y_category = data['category']  # Target categories\n",
    "y_sentiment = data['Final sentiment Annotation ']  # Sentiment labels\n",
    "\n",
    "# Encode target variables\n",
    "from sklearn.preprocessing import LabelEncoder\n",
    "category_encoder = LabelEncoder()\n",
    "sentiment_encoder = LabelEncoder()\n",
    "y_category = category_encoder.fit_transform(y_category)\n",
    "y_sentiment = sentiment_encoder.fit_transform(y_sentiment)\n",
    "\n",
    "# Split dataset into training and testing sets\n",
    "X_train, X_test, y_category_train, y_category_test = train_test_split(X, y_category, test_size=0.2, random_state=42, stratify=y_category)\n",
    "_, _, y_sentiment_train, y_sentiment_test = train_test_split(X, y_sentiment, test_size=0.2, random_state=42, stratify=y_sentiment)\n",
    "\n",
    "# TF-IDF Vectorization\n",
    "vectorizer = TfidfVectorizer(max_features=5000, ngram_range=(1, 2), stop_words=None)\n",
    "X_train_tfidf = vectorizer.fit_transform(X_train)\n",
    "X_test_tfidf = vectorizer.transform(X_test)\n",
    "\n",
    "# Logistic Regression Model for Category Prediction\n",
    "logistic_model_category = LogisticRegression(C=1.0, solver='liblinear', random_state=42)\n",
    "logistic_model_category.fit(X_train_tfidf, y_category_train)\n",
    "\n",
    "# Logistic Regression Model for Sentiment Prediction\n",
    "logistic_model_sentiment = LogisticRegression(C=1.0, solver='liblinear', random_state=42)\n",
    "logistic_model_sentiment.fit(X_train_tfidf, y_sentiment_train)\n",
    "\n",
    "# Predictions\n",
    "y_category_pred = logistic_model_category.predict(X_test_tfidf)\n",
    "y_sentiment_pred = logistic_model_sentiment.predict(X_test_tfidf)\n",
    "\n",
    "# Evaluation\n",
    "print(\"Logistic Regression - Category Prediction Report:\")\n",
    "print(classification_report(y_category_test, y_category_pred, target_names=category_encoder.classes_))\n",
    "\n",
    "print(\"\\nLogistic Regression - Sentiment Prediction Report:\")\n",
    "print(classification_report(y_sentiment_test, y_sentiment_pred, target_names=sentiment_encoder.classes_))\n"
   ]
  },
  {
   "cell_type": "markdown",
   "id": "45ec5344-97ef-4a16-9952-a0c22cd2792c",
   "metadata": {},
   "source": [
    " **the best models are \"Logistic Regression\" and \"SVM\" and \"Naive Bayes\"**,\n",
    "**now lets do grid search to find the best parameters for each of them**"
   ]
  },
  {
   "cell_type": "markdown",
   "id": "04dab4f1-6316-4987-a7ed-99a421a50f9b",
   "metadata": {},
   "source": [
    "# Optimizing Logistic Regression"
   ]
  },
  {
   "cell_type": "code",
   "execution_count": 10,
   "id": "5c9ffc8f-1f3a-48c0-a6d7-13b78a734c9a",
   "metadata": {},
   "outputs": [
    {
     "name": "stdout",
     "output_type": "stream",
     "text": [
      "Fitting 5 folds for each of 16 candidates, totalling 80 fits\n"
     ]
    },
    {
     "name": "stderr",
     "output_type": "stream",
     "text": [
      "C:\\Users\\rasha\\anaconda3\\Lib\\site-packages\\sklearn\\svm\\_base.py:1237: ConvergenceWarning: Liblinear failed to converge, increase the number of iterations.\n",
      "  warnings.warn(\n",
      "C:\\Users\\rasha\\anaconda3\\Lib\\site-packages\\sklearn\\svm\\_base.py:1237: ConvergenceWarning: Liblinear failed to converge, increase the number of iterations.\n",
      "  warnings.warn(\n",
      "C:\\Users\\rasha\\anaconda3\\Lib\\site-packages\\sklearn\\svm\\_base.py:1237: ConvergenceWarning: Liblinear failed to converge, increase the number of iterations.\n",
      "  warnings.warn(\n",
      "C:\\Users\\rasha\\anaconda3\\Lib\\site-packages\\sklearn\\svm\\_base.py:1237: ConvergenceWarning: Liblinear failed to converge, increase the number of iterations.\n",
      "  warnings.warn(\n",
      "C:\\Users\\rasha\\anaconda3\\Lib\\site-packages\\sklearn\\svm\\_base.py:1237: ConvergenceWarning: Liblinear failed to converge, increase the number of iterations.\n",
      "  warnings.warn(\n",
      "C:\\Users\\rasha\\anaconda3\\Lib\\site-packages\\sklearn\\svm\\_base.py:1237: ConvergenceWarning: Liblinear failed to converge, increase the number of iterations.\n",
      "  warnings.warn(\n",
      "C:\\Users\\rasha\\anaconda3\\Lib\\site-packages\\sklearn\\svm\\_base.py:1237: ConvergenceWarning: Liblinear failed to converge, increase the number of iterations.\n",
      "  warnings.warn(\n",
      "C:\\Users\\rasha\\anaconda3\\Lib\\site-packages\\sklearn\\svm\\_base.py:1237: ConvergenceWarning: Liblinear failed to converge, increase the number of iterations.\n",
      "  warnings.warn(\n",
      "C:\\Users\\rasha\\anaconda3\\Lib\\site-packages\\sklearn\\svm\\_base.py:1237: ConvergenceWarning: Liblinear failed to converge, increase the number of iterations.\n",
      "  warnings.warn(\n"
     ]
    },
    {
     "name": "stdout",
     "output_type": "stream",
     "text": [
      "Best parameters found: {'C': 100, 'penalty': 'l2', 'solver': 'lbfgs'}\n",
      "Logistic Regression - Optimized Classification Report:\n",
      "              precision    recall  f1-score   support\n",
      "\n",
      "    Our Life       0.95      1.00      0.98        20\n",
      "       Sport       0.95      0.95      0.95        20\n",
      "     Tourism       0.83      1.00      0.91        20\n",
      "       World       1.00      0.90      0.95        20\n",
      "  technology       1.00      0.85      0.92        20\n",
      "\n",
      "    accuracy                           0.94       100\n",
      "   macro avg       0.95      0.94      0.94       100\n",
      "weighted avg       0.95      0.94      0.94       100\n",
      "\n"
     ]
    },
    {
     "name": "stderr",
     "output_type": "stream",
     "text": [
      "C:\\Users\\rasha\\anaconda3\\Lib\\site-packages\\sklearn\\model_selection\\_validation.py:547: FitFailedWarning: \n",
      "20 fits failed out of a total of 80.\n",
      "The score on these train-test partitions for these parameters will be set to nan.\n",
      "If these failures are not expected, you can try to debug them by setting error_score='raise'.\n",
      "\n",
      "Below are more details about the failures:\n",
      "--------------------------------------------------------------------------------\n",
      "20 fits failed with the following error:\n",
      "Traceback (most recent call last):\n",
      "  File \"C:\\Users\\rasha\\anaconda3\\Lib\\site-packages\\sklearn\\model_selection\\_validation.py\", line 895, in _fit_and_score\n",
      "    estimator.fit(X_train, y_train, **fit_params)\n",
      "  File \"C:\\Users\\rasha\\anaconda3\\Lib\\site-packages\\sklearn\\base.py\", line 1474, in wrapper\n",
      "    return fit_method(estimator, *args, **kwargs)\n",
      "           ^^^^^^^^^^^^^^^^^^^^^^^^^^^^^^^^^^^^^^\n",
      "  File \"C:\\Users\\rasha\\anaconda3\\Lib\\site-packages\\sklearn\\linear_model\\_logistic.py\", line 1172, in fit\n",
      "    solver = _check_solver(self.solver, self.penalty, self.dual)\n",
      "             ^^^^^^^^^^^^^^^^^^^^^^^^^^^^^^^^^^^^^^^^^^^^^^^^^^^\n",
      "  File \"C:\\Users\\rasha\\anaconda3\\Lib\\site-packages\\sklearn\\linear_model\\_logistic.py\", line 67, in _check_solver\n",
      "    raise ValueError(\n",
      "ValueError: Solver lbfgs supports only 'l2' or None penalties, got l1 penalty.\n",
      "\n",
      "  warnings.warn(some_fits_failed_message, FitFailedWarning)\n",
      "C:\\Users\\rasha\\anaconda3\\Lib\\site-packages\\sklearn\\model_selection\\_search.py:1051: UserWarning: One or more of the test scores are non-finite: [0.20050633        nan 0.84708861 0.83458861 0.52386076        nan\n",
      " 0.87212025 0.8671519  0.80199367        nan 0.88218354 0.88468354\n",
      " 0.78699367        nan 0.88218354 0.88471519]\n",
      "  warnings.warn(\n"
     ]
    }
   ],
   "source": [
    "from sklearn.feature_extraction.text import TfidfVectorizer\n",
    "from sklearn.linear_model import LogisticRegression\n",
    "from sklearn.model_selection import GridSearchCV\n",
    "from sklearn.metrics import classification_report\n",
    "from sklearn.model_selection import train_test_split\n",
    "import pandas as pd\n",
    "\n",
    "# Load the dataset\n",
    "file_path = r\"C:\\Users\\rasha\\Downloads\\Sapaq news headlines.xlsx\"\n",
    "sheet_name = \"Cleaned Data\"\n",
    "data = pd.read_excel(file_path, sheet_name=sheet_name)  # Read data from the specified sheet\n",
    "\n",
    "# Features and targets\n",
    "X = data['News Headlines']  # News headlines (text data)\n",
    "y = data['category']  # Target categories\n",
    "\n",
    "# Encode target variables\n",
    "from sklearn.preprocessing import LabelEncoder\n",
    "category_encoder = LabelEncoder()\n",
    "y = category_encoder.fit_transform(y)\n",
    "\n",
    "# Split dataset into training and testing sets\n",
    "X_train, X_test, y_train, y_test = train_test_split(X, y, test_size=0.2, random_state=42, stratify=y)\n",
    "\n",
    "# TF-IDF Vectorization\n",
    "vectorizer = TfidfVectorizer(max_features=5000, ngram_range=(1, 2), stop_words=None)\n",
    "X_train_tfidf = vectorizer.fit_transform(X_train)\n",
    "X_test_tfidf = vectorizer.transform(X_test)\n",
    "\n",
    "# Logistic Regression Model\n",
    "logistic_model = LogisticRegression(random_state=42)\n",
    "\n",
    "# Define the parameter grid\n",
    "param_grid = {\n",
    "    'C': [0.1, 1, 10, 100],  # Regularization strength\n",
    "    'solver': ['liblinear', 'lbfgs'],  # Solvers for optimization\n",
    "    'penalty': ['l1', 'l2']  # Regularization penalty (l1 = Lasso, l2 = Ridge)\n",
    "}\n",
    "\n",
    "# Grid Search\n",
    "grid_search = GridSearchCV(estimator=logistic_model, param_grid=param_grid, cv=5, scoring='accuracy', verbose=1)\n",
    "grid_search.fit(X_train_tfidf, y_train)\n",
    "\n",
    "# Best parameters and model\n",
    "print(\"Best parameters found:\", grid_search.best_params_)\n",
    "best_logistic_model = grid_search.best_estimator_\n",
    "\n",
    "# Predictions\n",
    "y_pred = best_logistic_model.predict(X_test_tfidf)\n",
    "\n",
    "# Classification Report\n",
    "print(\"Logistic Regression - Optimized Classification Report:\")\n",
    "print(classification_report(y_test, y_pred, target_names=category_encoder.classes_))\n"
   ]
  },
  {
   "cell_type": "markdown",
   "id": "8f05e7da-908a-4f7c-95bc-d065f8e3c7ab",
   "metadata": {},
   "source": [
    "# Optimizing Naive Bayes"
   ]
  },
  {
   "cell_type": "code",
   "execution_count": 11,
   "id": "19c68dad",
   "metadata": {},
   "outputs": [
    {
     "name": "stdout",
     "output_type": "stream",
     "text": [
      "Best alpha: {'alpha': 1.0}\n",
      "Classification Report with Optimized Naive Bayes:\n",
      "              precision    recall  f1-score   support\n",
      "\n",
      "           0       0.95      0.95      0.95        20\n",
      "           1       0.90      0.95      0.93        20\n",
      "           2       0.80      1.00      0.89        20\n",
      "           3       1.00      0.85      0.92        20\n",
      "           4       1.00      0.85      0.92        20\n",
      "\n",
      "    accuracy                           0.92       100\n",
      "   macro avg       0.93      0.92      0.92       100\n",
      "weighted avg       0.93      0.92      0.92       100\n",
      "\n"
     ]
    }
   ],
   "source": [
    "from sklearn.model_selection import GridSearchCV\n",
    "from sklearn.naive_bayes import MultinomialNB\n",
    "\n",
    "# Define the model and parameter grid\n",
    "nb_model = MultinomialNB()\n",
    "param_grid = {'alpha': [0.1, 0.5, 1.0, 5.0, 10.0]}\n",
    "\n",
    "# Grid search\n",
    "grid_search = GridSearchCV(nb_model, param_grid, cv=5, scoring='accuracy')\n",
    "grid_search.fit(X_train_tfidf, y_category_train)\n",
    "\n",
    "# Get best parameters and model\n",
    "print(\"Best alpha:\", grid_search.best_params_)\n",
    "best_nb_model = grid_search.best_estimator_\n",
    "\n",
    "# Evaluate the best model on the test set\n",
    "y_category_pred = best_nb_model.predict(X_test_tfidf)\n",
    "print(\"Classification Report with Optimized Naive Bayes:\")\n",
    "from sklearn.metrics import classification_report\n",
    "print(classification_report(y_category_test, y_category_pred))\n"
   ]
  },
  {
   "cell_type": "markdown",
   "id": "6ddd3a1d-e9fc-4e69-8ac5-08ce930b26a8",
   "metadata": {},
   "source": [
    "# Optimizing SVM"
   ]
  },
  {
   "cell_type": "code",
   "execution_count": 12,
   "id": "5cfe866f-565d-4fcb-a6f7-3e1cd06cb595",
   "metadata": {},
   "outputs": [
    {
     "name": "stdout",
     "output_type": "stream",
     "text": [
      "Fitting 5 folds for each of 72 candidates, totalling 360 fits\n",
      "Best parameters found: {'C': 10, 'degree': 2, 'gamma': 'scale', 'kernel': 'linear'}\n",
      "Classification Report for Optimized SVM:\n",
      "              precision    recall  f1-score   support\n",
      "\n",
      "    Our Life       0.95      1.00      0.98        20\n",
      "       Sport       0.95      0.95      0.95        20\n",
      "     Tourism       0.83      1.00      0.91        20\n",
      "       World       1.00      0.90      0.95        20\n",
      "  technology       1.00      0.85      0.92        20\n",
      "\n",
      "    accuracy                           0.94       100\n",
      "   macro avg       0.95      0.94      0.94       100\n",
      "weighted avg       0.95      0.94      0.94       100\n",
      "\n"
     ]
    }
   ],
   "source": [
    "from sklearn.svm import SVC\n",
    "from sklearn.model_selection import GridSearchCV\n",
    "from sklearn.metrics import classification_report\n",
    "\n",
    "# Define the SVM model\n",
    "svm_model = SVC(random_state=42)\n",
    "\n",
    "# Define the parameter grid for optimization\n",
    "param_grid = {\n",
    "    'C': [0.1, 1, 10, 100],  # Regularization parameter\n",
    "    'kernel': ['linear', 'rbf', 'poly'],  # Kernel types\n",
    "    'gamma': ['scale', 'auto'],  # Kernel coefficient for 'rbf', 'poly', and 'sigmoid'\n",
    "    'degree': [2, 3, 4]  # Degree of the polynomial kernel (used only for 'poly')\n",
    "}\n",
    "\n",
    "# Grid Search\n",
    "grid_search = GridSearchCV(estimator=svm_model, param_grid=param_grid, cv=5, scoring='accuracy', verbose=1)\n",
    "grid_search.fit(X_train_tfidf, y_category_train)\n",
    "\n",
    "# Best parameters and model\n",
    "print(\"Best parameters found:\", grid_search.best_params_)\n",
    "best_svm_model = grid_search.best_estimator_\n",
    "\n",
    "# Evaluate the optimized SVM on the test set\n",
    "y_svm_pred = best_svm_model.predict(X_test_tfidf)\n",
    "print(\"Classification Report for Optimized SVM:\")\n",
    "print(classification_report(y_category_test, y_svm_pred, target_names=category_encoder.classes_))\n"
   ]
  },
  {
   "cell_type": "markdown",
   "id": "51d9a716-9a67-4704-a703-92cca78f9f85",
   "metadata": {},
   "source": [
    "# plot the confusion matrix for the best 3 models "
   ]
  },
  {
   "cell_type": "code",
   "execution_count": 13,
   "id": "7bc9f7bf-508e-48e5-836b-92c082752c9c",
   "metadata": {},
   "outputs": [
    {
     "data": {
      "text/plain": [
       "<Figure size 800x600 with 0 Axes>"
      ]
     },
     "metadata": {},
     "output_type": "display_data"
    },
    {
     "data": {
      "image/png": "[encoded data removed]",
      "text/plain": [
       "<Figure size 640x480 with 2 Axes>"
      ]
     },
     "metadata": {},
     "output_type": "display_data"
    },
    {
     "data": {
      "text/plain": [
       "<Figure size 800x600 with 0 Axes>"
      ]
     },
     "metadata": {},
     "output_type": "display_data"
    },
    {
     "data": {
      "image/png": "[encoded data removed]",
      "text/plain": [
       "<Figure size 640x480 with 2 Axes>"
      ]
     },
     "metadata": {},
     "output_type": "display_data"
    },
    {
     "data": {
      "text/plain": [
       "<Figure size 800x600 with 0 Axes>"
      ]
     },
     "metadata": {},
     "output_type": "display_data"
    },
    {
     "data": {
      "image/png": "[encoded data removed]",
      "text/plain": [
       "<Figure size 640x480 with 2 Axes>"
      ]
     },
     "metadata": {},
     "output_type": "display_data"
    }
   ],
   "source": [
    "from sklearn.metrics import ConfusionMatrixDisplay\n",
    "import matplotlib.pyplot as plt\n",
    "\n",
    "def plot_confusion_matrix(model, title, cmap):\n",
    "    plt.figure(figsize=(8, 6))\n",
    "    ConfusionMatrixDisplay.from_estimator(\n",
    "        estimator=model,\n",
    "        X=X_test_tfidf,                 # Test data\n",
    "        y=y_test,                       # True labels\n",
    "        display_labels=category_encoder.classes_,  # Category names\n",
    "        cmap=cmap,\n",
    "        values_format='d'\n",
    "    )\n",
    "    plt.title(title)\n",
    "    plt.show()\n",
    "\n",
    "# Confusion Matrices for each model\n",
    "plot_confusion_matrix(best_logistic_model, \"Confusion Matrix: Logistic Regression (Category Classification)\", plt.cm.Blues)\n",
    "plot_confusion_matrix(best_nb_model, \"Confusion Matrix: Naive Bayes (Category Classification)\", plt.cm.Oranges)\n",
    "plot_confusion_matrix(best_svm_model, \"Confusion Matrix: SVM (Category Classification)\", plt.cm.Greens)\n"
   ]
  },
  {
   "cell_type": "markdown",
   "id": "03d5e21b-3b73-4fb5-8692-c601159bf13a",
   "metadata": {},
   "source": [
    "# Voting Classifier: SVM, Logistic Regression, Naive Bayes"
   ]
  },
  {
   "cell_type": "code",
   "execution_count": 16,
   "id": "94c1dc7c-d37b-428d-9d15-0954cfe268bd",
   "metadata": {},
   "outputs": [
    {
     "name": "stdout",
     "output_type": "stream",
     "text": [
      "Classification Report - Voting Classifier (SVM + Logistic + Naive Bayes):\n",
      "              precision    recall  f1-score   support\n",
      "\n",
      "    Our Life       0.95      1.00      0.98        20\n",
      "       Sport       0.95      0.95      0.95        20\n",
      "     Tourism       0.83      1.00      0.91        20\n",
      "       World       1.00      0.90      0.95        20\n",
      "  technology       1.00      0.85      0.92        20\n",
      "\n",
      "    accuracy                           0.94       100\n",
      "   macro avg       0.95      0.94      0.94       100\n",
      "weighted avg       0.95      0.94      0.94       100\n",
      "\n"
     ]
    },
    {
     "data": {
      "text/plain": [
       "<Figure size 800x600 with 0 Axes>"
      ]
     },
     "metadata": {},
     "output_type": "display_data"
    },
    {
     "data": {
      "image/png": "[encoded data removed]",
      "text/plain": [
       "<Figure size 640x480 with 2 Axes>"
      ]
     },
     "metadata": {},
     "output_type": "display_data"
    }
   ],
   "source": [
    "from sklearn.metrics import ConfusionMatrixDisplay, classification_report\n",
    "import matplotlib.pyplot as plt\n",
    "from sklearn.ensemble import VotingClassifier\n",
    "from sklearn.svm import SVC\n",
    "from sklearn.linear_model import LogisticRegression\n",
    "from sklearn.naive_bayes import MultinomialNB\n",
    "from sklearn.feature_extraction.text import TfidfVectorizer\n",
    "from sklearn.model_selection import train_test_split\n",
    "from sklearn.preprocessing import LabelEncoder\n",
    "import pandas as pd\n",
    "\n",
    "# Load the dataset\n",
    "file_path = r\"C:\\Users\\rasha\\Downloads\\Sapaq news headlines.xlsx\"\n",
    "sheet_name = \"Cleaned Data\"\n",
    "data = pd.read_excel(file_path, sheet_name=sheet_name)\n",
    "\n",
    "# Features and targets\n",
    "X = data['News Headlines']\n",
    "y = data['category']\n",
    "\n",
    "# Encode target variables\n",
    "category_encoder = LabelEncoder()\n",
    "y = category_encoder.fit_transform(y)\n",
    "\n",
    "# Split dataset into training and testing sets\n",
    "X_train, X_test, y_train, y_test = train_test_split(X, y, test_size=0.2, random_state=42, stratify=y)\n",
    "\n",
    "# TF-IDF Vectorization\n",
    "vectorizer = TfidfVectorizer(max_features=5000, ngram_range=(1, 2))\n",
    "X_train_tfidf = vectorizer.fit_transform(X_train)\n",
    "X_test_tfidf = vectorizer.transform(X_test)\n",
    "\n",
    "# Define individual models\n",
    "svm_model = SVC(C=10, kernel='linear', probability=True, random_state=42)\n",
    "logistic_model = LogisticRegression(C=1.0, solver='liblinear', random_state=42)\n",
    "nb_model = MultinomialNB(alpha=0.1)\n",
    "\n",
    "# Create Voting Classifier\n",
    "voting_ensemble = VotingClassifier(\n",
    "    estimators=[\n",
    "        ('svm', svm_model),\n",
    "        ('logistic', logistic_model),\n",
    "        ('naive_bayes', nb_model)\n",
    "    ],\n",
    "    voting='soft'\n",
    ")\n",
    "\n",
    "# Train the Voting Classifier\n",
    "voting_ensemble.fit(X_train_tfidf, y_train)\n",
    "\n",
    "# Predict on the test set\n",
    "y_ensemble_pred = voting_ensemble.predict(X_test_tfidf)\n",
    "\n",
    "# Evaluate the ensemble model\n",
    "print(\"Classification Report - Voting Classifier (SVM + Logistic + Naive Bayes):\")\n",
    "print(classification_report(y_test, y_ensemble_pred, target_names=category_encoder.classes_))\n",
    "\n",
    "# Plot confusion matrix function\n",
    "def plot_confusion_matrix(model, X_test, y_test, labels, title, cmap):\n",
    "    \"\"\"\n",
    "    Plots the confusion matrix for a given model.\n",
    "    \n",
    "    Parameters:\n",
    "    model: The trained model to evaluate.\n",
    "    X_test: Test data (features).\n",
    "    y_test: True labels for the test set.\n",
    "    labels: Class labels for display.\n",
    "    title: The title of the plot.\n",
    "    cmap: The colormap for the plot.\n",
    "    \"\"\"\n",
    "    plt.figure(figsize=(8, 6))\n",
    "    ConfusionMatrixDisplay.from_estimator(\n",
    "        estimator=model,\n",
    "        X=X_test,\n",
    "        y=y_test,\n",
    "        display_labels=labels,\n",
    "        cmap=cmap,\n",
    "        values_format='d'\n",
    "    )\n",
    "    plt.title(title)\n",
    "    plt.show()\n",
    "\n",
    "# Plot Confusion Matrix for Voting Classifier\n",
    "plot_confusion_matrix(\n",
    "    model=voting_ensemble,\n",
    "    X_test=X_test_tfidf,\n",
    "    y_test=y_test,\n",
    "    labels=category_encoder.classes_,\n",
    "    title=\"Confusion Matrix - Voting Classifier (SVM + Logistic + Naive Bayes)\",\n",
    "    cmap=plt.cm.Blues\n",
    ")\n"
   ]
  },
  {
   "cell_type": "code",
   "execution_count": null,
   "id": "a4c33736-1f15-491e-8be1-fbe09cda956f",
   "metadata": {},
   "outputs": [],
   "source": []
  }
 ],
 "metadata": {
  "kernelspec": {
   "display_name": "Python 3 (ipykernel)",
   "language": "python",
   "name": "python3"
  },
  "language_info": {
   "codemirror_mode": {
    "name": "ipython",
    "version": 3
   },
   "file_extension": ".py",
   "mimetype": "text/x-python",
   "name": "python",
   "nbconvert_exporter": "python",
   "pygments_lexer": "ipython3",
   "version": "3.12.4"
  }
 },
 "nbformat": 4,
 "nbformat_minor": 5
}
